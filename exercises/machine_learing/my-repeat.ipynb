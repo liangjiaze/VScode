{
 "cells": [
  {
   "cell_type": "markdown",
   "metadata": {
    "collapsed": true
   },
   "source": [
    "# 单变量线性回归"
   ]
  },
  {
   "cell_type": "code",
   "execution_count": 1,
   "metadata": {
    "collapsed": true
   },
   "outputs": [],
   "source": [
    "import numpy as np\n",
    "import pandas as pd\n",
    "import matplotlib.pyplot as plt"
   ]
  },
  {
   "cell_type": "markdown",
   "metadata": {
    "collapsed": true
   },
   "source": [
    "### 注意pd.read_csv的使用方法"
   ]
  },
  {
   "cell_type": "code",
   "execution_count": 2,
   "metadata": {},
   "outputs": [
    {
     "data": {
      "text/html": [
       "<div>\n",
       "<style>\n",
       "    .dataframe thead tr:only-child th {\n",
       "        text-align: right;\n",
       "    }\n",
       "\n",
       "    .dataframe thead th {\n",
       "        text-align: left;\n",
       "    }\n",
       "\n",
       "    .dataframe tbody tr th {\n",
       "        vertical-align: top;\n",
       "    }\n",
       "</style>\n",
       "<table border=\"1\" class=\"dataframe\">\n",
       "  <thead>\n",
       "    <tr style=\"text-align: right;\">\n",
       "      <th></th>\n",
       "      <th>Poputation</th>\n",
       "      <th>Profit</th>\n",
       "    </tr>\n",
       "  </thead>\n",
       "  <tbody>\n",
       "    <tr>\n",
       "      <th>0</th>\n",
       "      <td>6.1101</td>\n",
       "      <td>17.5920</td>\n",
       "    </tr>\n",
       "    <tr>\n",
       "      <th>1</th>\n",
       "      <td>5.5277</td>\n",
       "      <td>9.1302</td>\n",
       "    </tr>\n",
       "    <tr>\n",
       "      <th>2</th>\n",
       "      <td>8.5186</td>\n",
       "      <td>13.6620</td>\n",
       "    </tr>\n",
       "    <tr>\n",
       "      <th>3</th>\n",
       "      <td>7.0032</td>\n",
       "      <td>11.8540</td>\n",
       "    </tr>\n",
       "    <tr>\n",
       "      <th>4</th>\n",
       "      <td>5.8598</td>\n",
       "      <td>6.8233</td>\n",
       "    </tr>\n",
       "  </tbody>\n",
       "</table>\n",
       "</div>"
      ],
      "text/plain": [
       "   Poputation   Profit\n",
       "0      6.1101  17.5920\n",
       "1      5.5277   9.1302\n",
       "2      8.5186  13.6620\n",
       "3      7.0032  11.8540\n",
       "4      5.8598   6.8233"
      ]
     },
     "execution_count": 2,
     "metadata": {},
     "output_type": "execute_result"
    }
   ],
   "source": [
    "path = \"ex1data1.txt\"\n",
    "data = pd.read_csv(path, header = None, names=['Poputation', 'Profit'])\n",
    "data.head()"
   ]
  },
  {
   "cell_type": "code",
   "execution_count": 3,
   "metadata": {},
   "outputs": [
    {
     "data": {
      "text/html": [
       "<div>\n",
       "<style>\n",
       "    .dataframe thead tr:only-child th {\n",
       "        text-align: right;\n",
       "    }\n",
       "\n",
       "    .dataframe thead th {\n",
       "        text-align: left;\n",
       "    }\n",
       "\n",
       "    .dataframe tbody tr th {\n",
       "        vertical-align: top;\n",
       "    }\n",
       "</style>\n",
       "<table border=\"1\" class=\"dataframe\">\n",
       "  <thead>\n",
       "    <tr style=\"text-align: right;\">\n",
       "      <th></th>\n",
       "      <th>Poputation</th>\n",
       "      <th>Profit</th>\n",
       "    </tr>\n",
       "  </thead>\n",
       "  <tbody>\n",
       "    <tr>\n",
       "      <th>count</th>\n",
       "      <td>97.000000</td>\n",
       "      <td>97.000000</td>\n",
       "    </tr>\n",
       "    <tr>\n",
       "      <th>mean</th>\n",
       "      <td>8.159800</td>\n",
       "      <td>5.839135</td>\n",
       "    </tr>\n",
       "    <tr>\n",
       "      <th>std</th>\n",
       "      <td>3.869884</td>\n",
       "      <td>5.510262</td>\n",
       "    </tr>\n",
       "    <tr>\n",
       "      <th>min</th>\n",
       "      <td>5.026900</td>\n",
       "      <td>-2.680700</td>\n",
       "    </tr>\n",
       "    <tr>\n",
       "      <th>25%</th>\n",
       "      <td>5.707700</td>\n",
       "      <td>1.986900</td>\n",
       "    </tr>\n",
       "    <tr>\n",
       "      <th>50%</th>\n",
       "      <td>6.589400</td>\n",
       "      <td>4.562300</td>\n",
       "    </tr>\n",
       "    <tr>\n",
       "      <th>75%</th>\n",
       "      <td>8.578100</td>\n",
       "      <td>7.046700</td>\n",
       "    </tr>\n",
       "    <tr>\n",
       "      <th>max</th>\n",
       "      <td>22.203000</td>\n",
       "      <td>24.147000</td>\n",
       "    </tr>\n",
       "  </tbody>\n",
       "</table>\n",
       "</div>"
      ],
      "text/plain": [
       "       Poputation     Profit\n",
       "count   97.000000  97.000000\n",
       "mean     8.159800   5.839135\n",
       "std      3.869884   5.510262\n",
       "min      5.026900  -2.680700\n",
       "25%      5.707700   1.986900\n",
       "50%      6.589400   4.562300\n",
       "75%      8.578100   7.046700\n",
       "max     22.203000  24.147000"
      ]
     },
     "execution_count": 3,
     "metadata": {},
     "output_type": "execute_result"
    }
   ],
   "source": [
    "data.describe()"
   ]
  },
  {
   "cell_type": "markdown",
   "metadata": {},
   "source": [
    "### 可视化数据（plot，散点图查看）"
   ]
  },
  {
   "cell_type": "code",
   "execution_count": 4,
   "metadata": {},
   "outputs": [
    {
     "data": {
      "text/plain": [
       "<matplotlib.axes._subplots.AxesSubplot at 0x1607bc74d68>"
      ]
     },
     "execution_count": 4,
     "metadata": {},
     "output_type": "execute_result"
    }
   ],
   "source": [
    "data.plot(kind=\"scatter\",x='Poputation',y='Profit',figsize=(12,6))"
   ]
  },
  {
   "cell_type": "markdown",
   "metadata": {},
   "source": [
    "# 1.2 数据可视化"
   ]
  },
  {
   "cell_type": "code",
   "execution_count": 5,
   "metadata": {
    "scrolled": true
   },
   "outputs": [
    {
     "data": {
      "image/png": "[encoded data removed]",
      "text/plain": [
       "<matplotlib.figure.Figure at 0x1607bc74748>"
      ]
     },
     "metadata": {},
     "output_type": "display_data"
    }
   ],
   "source": [
    "plt.show()"
   ]
  },
  {
   "cell_type": "markdown",
   "metadata": {},
   "source": [
    "# 1.2 梯度下降的实现"
   ]
  },
  {
   "cell_type": "markdown",
   "metadata": {
    "collapsed": true
   },
   "source": [
    "**首先创建一个以θ为特征函数的代价函数;**\n",
    "$$J\\left( \\theta  \\right)=\\frac{1}{2m}\\sum\\limits_{i=1}^{m}{{{\\left( {{h}_{\\theta }}\\left( {{x}^{(i)}} \\right)-{{y}^{(i)}} \\right)}^{2}}}$$\n",
    "多变量的假设 h 表示为：\\\\[{{h}_{\\theta }}\\left( x \\right)={{\\theta }_{0}}+{{\\theta }_{1}}{{x}_{1}}+{{\\theta }_{2}}{{x}_{2}}+...+{{\\theta }_{n}}{{x}_{n}}\\\\] \n",
    "这个公式中有n+1个参数和n个变量，为了使得公式能够简化一些，引入${{x}_{0}}=1$，则公式转化为：  \n",
    "此时模型中的参数是一个n+1维的向量，任何一个训练实例也都是n+1维的向量，特征矩阵X的维度是 m*(n+1)。 因此公式可以简化为：${{h}_{\\theta }}\\left( x \\right)={{\\theta }^{T}}X$，其中上标T代表矩阵转置。\n",
    "则有：\\\\[{{h}_{\\theta }}\\left( x \\right)={{\\theta }^{T}}X={{\\theta }_{0}}{{x}_{0}}+{{\\theta }_{1}}{{x}_{1}}+{{\\theta }_{2}}{{x}_{2}}+...+{{\\theta }_{n}}{{x}_{n}}\\\\] "
   ]
  },
  {
   "cell_type": "code",
   "execution_count": 6,
   "metadata": {
    "collapsed": true
   },
   "outputs": [],
   "source": [
    "def ComputeCost(X,y,theta):\n",
    "    \"\"\"X(m,n+1) y(m,1) theta(n+1,1)\"\"\"\n",
    "    inner = np.power(((X @ theta)-y),2) # 得到的是 (m, 1)\n",
    "    return np.sum(inner) / (2 * len(X))  # np,sum能将内部的元素加和。"
   ]
  },
  {
   "cell_type": "markdown",
   "metadata": {},
   "source": [
    "**让我们在训练集中添加一列，以便我们可以使用向量化的解决方案来计算代价和梯度。**"
   ]
  },
  {
   "cell_type": "code",
   "execution_count": 7,
   "metadata": {},
   "outputs": [
    {
     "data": {
      "text/html": [
       "<div>\n",
       "<style>\n",
       "    .dataframe thead tr:only-child th {\n",
       "        text-align: right;\n",
       "    }\n",
       "\n",
       "    .dataframe thead th {\n",
       "        text-align: left;\n",
       "    }\n",
       "\n",
       "    .dataframe tbody tr th {\n",
       "        vertical-align: top;\n",
       "    }\n",
       "</style>\n",
       "<table border=\"1\" class=\"dataframe\">\n",
       "  <thead>\n",
       "    <tr style=\"text-align: right;\">\n",
       "      <th></th>\n",
       "      <th>Ones</th>\n",
       "      <th>Poputation</th>\n",
       "      <th>Profit</th>\n",
       "    </tr>\n",
       "  </thead>\n",
       "  <tbody>\n",
       "    <tr>\n",
       "      <th>0</th>\n",
       "      <td>1</td>\n",
       "      <td>6.1101</td>\n",
       "      <td>17.5920</td>\n",
       "    </tr>\n",
       "    <tr>\n",
       "      <th>1</th>\n",
       "      <td>1</td>\n",
       "      <td>5.5277</td>\n",
       "      <td>9.1302</td>\n",
       "    </tr>\n",
       "    <tr>\n",
       "      <th>2</th>\n",
       "      <td>1</td>\n",
       "      <td>8.5186</td>\n",
       "      <td>13.6620</td>\n",
       "    </tr>\n",
       "    <tr>\n",
       "      <th>3</th>\n",
       "      <td>1</td>\n",
       "      <td>7.0032</td>\n",
       "      <td>11.8540</td>\n",
       "    </tr>\n",
       "    <tr>\n",
       "      <th>4</th>\n",
       "      <td>1</td>\n",
       "      <td>5.8598</td>\n",
       "      <td>6.8233</td>\n",
       "    </tr>\n",
       "  </tbody>\n",
       "</table>\n",
       "</div>"
      ],
      "text/plain": [
       "   Ones  Poputation   Profit\n",
       "0     1      6.1101  17.5920\n",
       "1     1      5.5277   9.1302\n",
       "2     1      8.5186  13.6620\n",
       "3     1      7.0032  11.8540\n",
       "4     1      5.8598   6.8233"
      ]
     },
     "execution_count": 7,
     "metadata": {},
     "output_type": "execute_result"
    }
   ],
   "source": [
    "data.insert(0, 'Ones', 1) # 插入到第零列\n",
    "data.head()"
   ]
  },
  {
   "cell_type": "markdown",
   "metadata": {},
   "source": [
    "**现在我们来做一些变量初始化**"
   ]
  },
  {
   "cell_type": "code",
   "execution_count": 8,
   "metadata": {
    "collapsed": true
   },
   "outputs": [],
   "source": [
    "# 设置训练特征（X）和目标变量（y）\n",
    "cols = data.shape[1]     # 返回的是列数\n",
    "X = data.iloc[:,0:cols-1] # X是所有的行，去掉最后一列\n",
    "y = data.iloc[:,cols-1:cols] # y所有的行，最后一列"
   ]
  },
  {
   "cell_type": "markdown",
   "metadata": {},
   "source": [
    "**观察X（训练集）和y（目标变量）的值是否正确**"
   ]
  },
  {
   "cell_type": "code",
   "execution_count": 9,
   "metadata": {},
   "outputs": [
    {
     "data": {
      "text/html": [
       "<div>\n",
       "<style>\n",
       "    .dataframe thead tr:only-child th {\n",
       "        text-align: right;\n",
       "    }\n",
       "\n",
       "    .dataframe thead th {\n",
       "        text-align: left;\n",
       "    }\n",
       "\n",
       "    .dataframe tbody tr th {\n",
       "        vertical-align: top;\n",
       "    }\n",
       "</style>\n",
       "<table border=\"1\" class=\"dataframe\">\n",
       "  <thead>\n",
       "    <tr style=\"text-align: right;\">\n",
       "      <th></th>\n",
       "      <th>Ones</th>\n",
       "      <th>Poputation</th>\n",
       "    </tr>\n",
       "  </thead>\n",
       "  <tbody>\n",
       "    <tr>\n",
       "      <th>0</th>\n",
       "      <td>1</td>\n",
       "      <td>6.1101</td>\n",
       "    </tr>\n",
       "    <tr>\n",
       "      <th>1</th>\n",
       "      <td>1</td>\n",
       "      <td>5.5277</td>\n",
       "    </tr>\n",
       "    <tr>\n",
       "      <th>2</th>\n",
       "      <td>1</td>\n",
       "      <td>8.5186</td>\n",
       "    </tr>\n",
       "    <tr>\n",
       "      <th>3</th>\n",
       "      <td>1</td>\n",
       "      <td>7.0032</td>\n",
       "    </tr>\n",
       "    <tr>\n",
       "      <th>4</th>\n",
       "      <td>1</td>\n",
       "      <td>5.8598</td>\n",
       "    </tr>\n",
       "  </tbody>\n",
       "</table>\n",
       "</div>"
      ],
      "text/plain": [
       "   Ones  Poputation\n",
       "0     1      6.1101\n",
       "1     1      5.5277\n",
       "2     1      8.5186\n",
       "3     1      7.0032\n",
       "4     1      5.8598"
      ]
     },
     "execution_count": 9,
     "metadata": {},
     "output_type": "execute_result"
    }
   ],
   "source": [
    "X.head()"
   ]
  },
  {
   "cell_type": "code",
   "execution_count": 10,
   "metadata": {},
   "outputs": [
    {
     "data": {
      "text/html": [
       "<div>\n",
       "<style>\n",
       "    .dataframe thead tr:only-child th {\n",
       "        text-align: right;\n",
       "    }\n",
       "\n",
       "    .dataframe thead th {\n",
       "        text-align: left;\n",
       "    }\n",
       "\n",
       "    .dataframe tbody tr th {\n",
       "        vertical-align: top;\n",
       "    }\n",
       "</style>\n",
       "<table border=\"1\" class=\"dataframe\">\n",
       "  <thead>\n",
       "    <tr style=\"text-align: right;\">\n",
       "      <th></th>\n",
       "      <th>Profit</th>\n",
       "    </tr>\n",
       "  </thead>\n",
       "  <tbody>\n",
       "    <tr>\n",
       "      <th>0</th>\n",
       "      <td>17.5920</td>\n",
       "    </tr>\n",
       "    <tr>\n",
       "      <th>1</th>\n",
       "      <td>9.1302</td>\n",
       "    </tr>\n",
       "    <tr>\n",
       "      <th>2</th>\n",
       "      <td>13.6620</td>\n",
       "    </tr>\n",
       "    <tr>\n",
       "      <th>3</th>\n",
       "      <td>11.8540</td>\n",
       "    </tr>\n",
       "    <tr>\n",
       "      <th>4</th>\n",
       "      <td>6.8233</td>\n",
       "    </tr>\n",
       "  </tbody>\n",
       "</table>\n",
       "</div>"
      ],
      "text/plain": [
       "    Profit\n",
       "0  17.5920\n",
       "1   9.1302\n",
       "2  13.6620\n",
       "3  11.8540\n",
       "4   6.8233"
      ]
     },
     "execution_count": 10,
     "metadata": {},
     "output_type": "execute_result"
    }
   ],
   "source": [
    "y.head() # head 是观察前5行"
   ]
  },
  {
   "cell_type": "code",
   "execution_count": 11,
   "metadata": {},
   "outputs": [
    {
     "data": {
      "text/plain": [
       "pandas.core.frame.DataFrame"
      ]
     },
     "execution_count": 11,
     "metadata": {},
     "output_type": "execute_result"
    }
   ],
   "source": [
    "type(y)"
   ]
  },
  {
   "cell_type": "markdown",
   "metadata": {},
   "source": [
    "可以看到是DataFrame类型的数据，这是pandas的特性能处理字符串。我们需要将其转换成numpy的数组进行计算（前面定义的代价函数是numpy数组）。"
   ]
  },
  {
   "cell_type": "code",
   "execution_count": 12,
   "metadata": {
    "collapsed": true
   },
   "outputs": [],
   "source": [
    "X = np.matrix(X.values)\n",
    "y = np.matrix(y.values)\n",
    "theta = np.array([[0],[0]]) "
   ]
  },
  {
   "cell_type": "markdown",
   "metadata": {},
   "source": [
    "theta是一个(2,1)的矩阵"
   ]
  },
  {
   "cell_type": "code",
   "execution_count": 13,
   "metadata": {},
   "outputs": [
    {
     "data": {
      "text/plain": [
       "array([[0],\n",
       "       [0]])"
      ]
     },
     "execution_count": 13,
     "metadata": {},
     "output_type": "execute_result"
    }
   ],
   "source": [
    "theta"
   ]
  },
  {
   "cell_type": "markdown",
   "metadata": {},
   "source": [
    "检查所有的维度"
   ]
  },
  {
   "cell_type": "code",
   "execution_count": 14,
   "metadata": {},
   "outputs": [
    {
     "data": {
      "text/plain": [
       "((97, 2), (2, 1), (97, 1))"
      ]
     },
     "execution_count": 14,
     "metadata": {},
     "output_type": "execute_result"
    }
   ],
   "source": [
    "X.shape, theta.shape, y.shape"
   ]
  },
  {
   "cell_type": "markdown",
   "metadata": {},
   "source": [
    "**计算代价函数**"
   ]
  },
  {
   "cell_type": "code",
   "execution_count": 15,
   "metadata": {},
   "outputs": [
    {
     "data": {
      "text/plain": [
       "32.072733877455676"
      ]
     },
     "execution_count": 15,
     "metadata": {},
     "output_type": "execute_result"
    }
   ],
   "source": [
    "ComputeCost(X,y,theta) # 返回theta的值"
   ]
  },
  {
   "cell_type": "markdown",
   "metadata": {},
   "source": [
    "## 1.3 batch gradient decent (批量梯度下降)\n",
    "$${{\\theta }_{j}}:={{\\theta }_{j}}-\\alpha \\frac{\\partial }{\\partial {{\\theta }_{j}}}J\\left( \\theta  \\right)$$\n",
    "$${\\theta_{0}}:={\\theta_{0}}-a\\frac{1}{m}\\sum\\limits_{i=1}^{m}{ \\left({{h}_{\\theta }}({{x}^{(i)}})-{{y}^{(i)}} \\right)}$$\n",
    "$${\\theta_{1}}:={\\theta_{1}}-a\\frac{1}{m}\\sum\\limits_{i=1}^{m}{\\left( \\left({{h}_{\\theta }}({{x}^{(i)}})-{{y}^{(i)}} \\right)\\cdot {{x}^{(i)}} \\right)}$$\n",
    "$$...$$"
   ]
  },
  {
   "cell_type": "markdown",
   "metadata": {},
   "source": [
    "**先求梯度** 注意这个梯度的求法，在以后很多时候都是通用的。X（m,n+1）,y（m,1）,theta(n+1,1)"
   ]
  },
  {
   "cell_type": "code",
   "execution_count": 16,
   "metadata": {
    "collapsed": true
   },
   "outputs": [],
   "source": [
    "def Gradient(X,y,theta):\n",
    "    \"\"\"梯度的求解:和上式2,3可得\"\"\"\n",
    "    m = X.shape[0]\n",
    "    \n",
    "    inner = X.T@(X @ theta - y)   # X.T(n+1,m) @ (X(m,n+1) @ (theta(n+1,1))) -> (n, 1) 得到 n 行 1 列数据。\n",
    "    \n",
    "    return inner / m"
   ]
  },
  {
   "cell_type": "markdown",
   "metadata": {},
   "source": [
    "**现在来定义批量梯度下降**"
   ]
  },
  {
   "cell_type": "code",
   "execution_count": 17,
   "metadata": {
    "collapsed": true
   },
   "outputs": [],
   "source": [
    "def Batch_gradient_descent(X, y, theta, epoch, alpha=0.01):\n",
    "    \"\"\"\n",
    "    拟合线性回归，返回参数和代价\n",
    "    epoch:要处理的的迭代次数\n",
    "    \n",
    "    \"\"\"\n",
    "    \n",
    "    # 代价函数的初始化\n",
    "    cost_data = [ComputeCost(X, y, theta)]\n",
    "    _theta = theta.copy() # 拷贝一份，不和原来的theta混淆\n",
    "    \n",
    "    # 进行同步迭代\n",
    "    for i in range(epoch):\n",
    "        _theta = _theta - alpha * Gradient(X, y, _theta)\n",
    "        cost_data.append(ComputeCost(X, y, _theta))\n",
    "        \n",
    "    return _theta, cost_data"
   ]
  },
  {
   "cell_type": "code",
   "execution_count": 18,
   "metadata": {
    "collapsed": true
   },
   "outputs": [],
   "source": [
    "final_theta, cost_data = Batch_gradient_descent(X, y, theta, epoch = 500) "
   ]
  },
  {
   "cell_type": "markdown",
   "metadata": {},
   "source": [
    "**最终得到的theta(迭代500步)**"
   ]
  },
  {
   "cell_type": "code",
   "execution_count": 19,
   "metadata": {},
   "outputs": [
    {
     "data": {
      "text/plain": [
       "matrix([[-2.28286727],\n",
       "        [ 1.03099898]])"
      ]
     },
     "execution_count": 19,
     "metadata": {},
     "output_type": "execute_result"
    }
   ],
   "source": [
    "final_theta"
   ]
  },
  {
   "cell_type": "markdown",
   "metadata": {},
   "source": [
    "**迭代500步过程中的代价函数的变化**"
   ]
  },
  {
   "cell_type": "code",
   "execution_count": 20,
   "metadata": {},
   "outputs": [
    {
     "data": {
      "text/plain": [
       "[32.072733877455676,\n",
       " 6.737190464870006,\n",
       " 5.931593568604956,\n",
       " 5.901154707081388,\n",
       " 5.895228586444221,\n",
       " 5.89009494311733,\n",
       " 5.885004158443647,\n",
       " 5.879932480491418,\n",
       " 5.874879094762575,\n",
       " 5.869843911806386,\n",
       " 5.8648268653129305,\n",
       " 5.859827889932181,\n",
       " 5.85484692057229,\n",
       " 5.849883892376588,\n",
       " 5.844938740722034,\n",
       " 5.840011401218361,\n",
       " 5.8351018097072265,\n",
       " 5.830209902261388,\n",
       " 5.825335615183863,\n",
       " 5.820478885007099,\n",
       " 5.815639648492154,\n",
       " 5.810817842627869,\n",
       " 5.806013404630044,\n",
       " 5.801226271940628,\n",
       " 5.796456382226899,\n",
       " 5.791703673380653,\n",
       " 5.786968083517396,\n",
       " 5.782249550975539,\n",
       " 5.777548014315596,\n",
       " 5.772863412319381,\n",
       " 5.768195683989212,\n",
       " 5.76354476854712,\n",
       " 5.758910605434049,\n",
       " 5.754293134309077,\n",
       " 5.749692295048629,\n",
       " 5.745108027745684,\n",
       " 5.740540272709014,\n",
       " 5.735988970462381,\n",
       " 5.731454061743792,\n",
       " 5.726935487504702,\n",
       " 5.722433188909257,\n",
       " 5.717947107333528,\n",
       " 5.713477184364749,\n",
       " 5.709023361800549,\n",
       " 5.704585581648199,\n",
       " 5.700163786123856,\n",
       " 5.695757917651815,\n",
       " 5.691367918863752,\n",
       " 5.68699373259798,\n",
       " 5.682635301898707,\n",
       " 5.678292570015292,\n",
       " 5.673965480401506,\n",
       " 5.669653976714798,\n",
       " 5.6653580028155535,\n",
       " 5.661077502766381,\n",
       " 5.6568124208313595,\n",
       " 5.652562701475333,\n",
       " 5.648328289363181,\n",
       " 5.644109129359092,\n",
       " 5.639905166525856,\n",
       " 5.635716346124135,\n",
       " 5.631542613611772,\n",
       " 5.627383914643055,\n",
       " 5.623240195068026,\n",
       " 5.619111400931778,\n",
       " 5.61499747847374,\n",
       " 5.610898374126987,\n",
       " 5.606814034517532,\n",
       " 5.602744406463646,\n",
       " 5.598689436975159,\n",
       " 5.59464907325276,\n",
       " 5.590623262687323,\n",
       " 5.586611952859217,\n",
       " 5.5826150915376225,\n",
       " 5.578632626679853,\n",
       " 5.574664506430678,\n",
       " 5.570710679121643,\n",
       " 5.566771093270403,\n",
       " 5.562845697580051,\n",
       " 5.558934440938442,\n",
       " 5.555037272417543,\n",
       " 5.551154141272755,\n",
       " 5.547284996942256,\n",
       " 5.5434297890463515,\n",
       " 5.539588467386808,\n",
       " 5.535760981946204,\n",
       " 5.531947282887274,\n",
       " 5.528147320552271,\n",
       " 5.524361045462306,\n",
       " 5.520588408316713,\n",
       " 5.5168293599924025,\n",
       " 5.513083851543224,\n",
       " 5.5093518341993315,\n",
       " 5.5056332593665385,\n",
       " 5.501928078625698,\n",
       " 5.498236243732065,\n",
       " 5.494557706614666,\n",
       " 5.490892419375678,\n",
       " 5.487240334289804,\n",
       " 5.483601403803652,\n",
       " 5.479975580535112,\n",
       " 5.476362817272741,\n",
       " 5.472763066975153,\n",
       " 5.469176282770398,\n",
       " 5.465602417955358,\n",
       " 5.462041425995137,\n",
       " 5.4584932605224585,\n",
       " 5.454957875337048,\n",
       " 5.451435224405051,\n",
       " 5.447925261858424,\n",
       " 5.444427941994333,\n",
       " 5.440943219274565,\n",
       " 5.437471048324934,\n",
       " 5.434011383934687,\n",
       " 5.430564181055919,\n",
       " 5.427129394802985,\n",
       " 5.423706980451918,\n",
       " 5.420296893439836,\n",
       " 5.416899089364381,\n",
       " 5.413513523983123,\n",
       " 5.410140153212988,\n",
       " 5.406778933129694,\n",
       " 5.403429819967165,\n",
       " 5.400092770116975,\n",
       " 5.396767740127768,\n",
       " 5.393454686704697,\n",
       " 5.390153566708862,\n",
       " 5.386864337156746,\n",
       " 5.383586955219661,\n",
       " 5.380321378223178,\n",
       " 5.3770675636465795,\n",
       " 5.373825469122317,\n",
       " 5.37059505243543,\n",
       " 5.367376271523024,\n",
       " 5.364169084473712,\n",
       " 5.360973449527068,\n",
       " 5.357789325073084,\n",
       " 5.354616669651632,\n",
       " 5.351455441951915,\n",
       " 5.348305600811943,\n",
       " 5.34516710521798,\n",
       " 5.342039914304029,\n",
       " 5.338923987351282,\n",
       " 5.335819283787603,\n",
       " 5.332725763186988,\n",
       " 5.329643385269053,\n",
       " 5.326572109898499,\n",
       " 5.323511897084587,\n",
       " 5.32046270698063,\n",
       " 5.317424499883461,\n",
       " 5.314397236232924,\n",
       " 5.311380876611356,\n",
       " 5.308375381743072,\n",
       " 5.305380712493861,\n",
       " 5.302396829870465,\n",
       " 5.2994236950200815,\n",
       " 5.296461269229852,\n",
       " 5.29350951392636,\n",
       " 5.290568390675129,\n",
       " 5.287637861180119,\n",
       " 5.284717887283231,\n",
       " 5.281808430963811,\n",
       " 5.278909454338153,\n",
       " 5.276020919659001,\n",
       " 5.27314278931507,\n",
       " 5.270275025830544,\n",
       " 5.267417591864592,\n",
       " 5.264570450210886,\n",
       " 5.261733563797111,\n",
       " 5.258906895684483,\n",
       " 5.256090409067274,\n",
       " 5.253284067272322,\n",
       " 5.250487833758565,\n",
       " 5.2477016721165555,\n",
       " 5.244925546067995,\n",
       " 5.242159419465253,\n",
       " 5.239403256290902,\n",
       " 5.236657020657251,\n",
       " 5.2339206768058695,\n",
       " 5.2311941891071285,\n",
       " 5.228477522059737,\n",
       " 5.225770640290271,\n",
       " 5.223073508552729,\n",
       " 5.220386091728056,\n",
       " 5.217708354823697,\n",
       " 5.215040262973137,\n",
       " 5.21238178143545,\n",
       " 5.2097328755948435,\n",
       " 5.207093510960208,\n",
       " 5.204463653164672,\n",
       " 5.20184326796515,\n",
       " 5.199232321241896,\n",
       " 5.196630778998063,\n",
       " 5.19403860735926,\n",
       " 5.191455772573107,\n",
       " 5.188882241008802,\n",
       " 5.1863179791566765,\n",
       " 5.18376295362776,\n",
       " 5.181217131153349,\n",
       " 5.1786804785845755,\n",
       " 5.176152962891966,\n",
       " 5.173634551165021,\n",
       " 5.171125210611782,\n",
       " 5.168624908558403,\n",
       " 5.166133612448731,\n",
       " 5.163651289843875,\n",
       " 5.16117790842179,\n",
       " 5.15871343597685,\n",
       " 5.156257840419434,\n",
       " 5.1538110897755045,\n",
       " 5.151373152186197,\n",
       " 5.148943995907397,\n",
       " 5.146523589309322,\n",
       " 5.144111900876139,\n",
       " 5.141708899205516,\n",
       " 5.139314553008234,\n",
       " 5.136928831107778,\n",
       " 5.134551702439932,\n",
       " 5.132183136052364,\n",
       " 5.129823101104237,\n",
       " 5.127471566865799,\n",
       " 5.125128502717979,\n",
       " 5.122793878152008,\n",
       " 5.120467662768992,\n",
       " 5.118149826279542,\n",
       " 5.115840338503367,\n",
       " 5.113539169368884,\n",
       " 5.111246288912825,\n",
       " 5.108961667279847,\n",
       " 5.10668527472215,\n",
       " 5.104417081599077,\n",
       " 5.102157058376736,\n",
       " 5.099905175627619,\n",
       " 5.097661404030211,\n",
       " 5.095425714368609,\n",
       " 5.09319807753215,\n",
       " 5.090978464515021,\n",
       " 5.088766846415887,\n",
       " 5.086563194437517,\n",
       " 5.084367479886401,\n",
       " 5.082179674172386,\n",
       " 5.079999748808298,\n",
       " 5.0778276754095675,\n",
       " 5.075663425693872,\n",
       " 5.073506971480756,\n",
       " 5.071358284691268,\n",
       " 5.069217337347596,\n",
       " 5.067084101572705,\n",
       " 5.064958549589969,\n",
       " 5.06284065372281,\n",
       " 5.060730386394342,\n",
       " 5.05862772012701,\n",
       " 5.056532627542231,\n",
       " 5.0544450813600355,\n",
       " 5.052365054398719,\n",
       " 5.050292519574479,\n",
       " 5.0482274499010735,\n",
       " 5.046169818489457,\n",
       " 5.044119598547441,\n",
       " 5.042076763379342,\n",
       " 5.040041286385627,\n",
       " 5.038013141062576,\n",
       " 5.035992301001939,\n",
       " 5.033978739890579,\n",
       " 5.03197243151014,\n",
       " 5.029973349736707,\n",
       " 5.027981468540455,\n",
       " 5.025996761985324,\n",
       " 5.024019204228667,\n",
       " 5.022048769520927,\n",
       " 5.020085432205294,\n",
       " 5.018129166717367,\n",
       " 5.016179947584834,\n",
       " 5.014237749427129,\n",
       " 5.012302546955105,\n",
       " 5.010374314970709,\n",
       " 5.0084530283666435,\n",
       " 5.006538662126048,\n",
       " 5.004631191322175,\n",
       " 5.002730591118061,\n",
       " 5.0008368367662,\n",
       " 4.998949903608226,\n",
       " 4.997069767074595,\n",
       " 4.995196402684257,\n",
       " 4.9933297860443435,\n",
       " 4.991469892849845,\n",
       " 4.9896166988833,\n",
       " 4.987770180014478,\n",
       " 4.985930312200061,\n",
       " 4.9840970714833315,\n",
       " 4.982270433993872,\n",
       " 4.9804503759472345,\n",
       " 4.978636873644647,\n",
       " 4.976829903472698,\n",
       " 4.97502944190303,\n",
       " 4.973235465492034,\n",
       " 4.971447950880541,\n",
       " 4.969666874793521,\n",
       " 4.967892214039784,\n",
       " 4.966123945511668,\n",
       " 4.964362046184745,\n",
       " 4.962606493117519,\n",
       " 4.96085726345113,\n",
       " 4.959114334409053,\n",
       " 4.957377683296803,\n",
       " 4.955647287501639,\n",
       " 4.95392312449227,\n",
       " 4.9522051718185605,\n",
       " 4.95049340711124,\n",
       " 4.94878780808161,\n",
       " 4.9470883525212574,\n",
       " 4.94539501830176,\n",
       " 4.943707783374399,\n",
       " 4.942026625769877,\n",
       " 4.940351523598029,\n",
       " 4.938682455047537,\n",
       " 4.937019398385641,\n",
       " 4.935362331957869,\n",
       " 4.933711234187742,\n",
       " 4.9320660835764984,\n",
       " 4.930426858702818,\n",
       " 4.928793538222536,\n",
       " 4.927166100868363,\n",
       " 4.925544525449624,\n",
       " 4.923928790851962,\n",
       " 4.922318876037079,\n",
       " 4.920714760042453,\n",
       " 4.919116421981067,\n",
       " 4.91752384104114,\n",
       " 4.9159369964858515,\n",
       " 4.914355867653077,\n",
       " 4.9127804339551115,\n",
       " 4.911210674878409,\n",
       " 4.9096465699833125,\n",
       " 4.908088098903784,\n",
       " 4.9065352413471475,\n",
       " 4.904987977093815,\n",
       " 4.903446285997031,\n",
       " 4.90191014798261,\n",
       " 4.9003795430486665,\n",
       " 4.898854451265366,\n",
       " 4.897334852774657,\n",
       " 4.895820727790016,\n",
       " 4.894312056596192,\n",
       " 4.892808819548944,\n",
       " 4.891310997074789,\n",
       " 4.889818569670749,\n",
       " 4.888331517904089,\n",
       " 4.8868498224120795,\n",
       " 4.885373463901725,\n",
       " 4.883902423149523,\n",
       " 4.88243668100122,\n",
       " 4.880976218371547,\n",
       " 4.879521016243985,\n",
       " 4.878071055670509,\n",
       " 4.876626317771341,\n",
       " 4.875186783734713,\n",
       " 4.87375243481661,\n",
       " 4.872323252340535,\n",
       " 4.870899217697262,\n",
       " 4.869480312344594,\n",
       " 4.868066517807122,\n",
       " 4.866657815675987,\n",
       " 4.865254187608632,\n",
       " 4.863855615328574,\n",
       " 4.862462080625159,\n",
       " 4.861073565353324,\n",
       " 4.859690051433372,\n",
       " 4.858311520850714,\n",
       " 4.856937955655664,\n",
       " 4.855569337963178,\n",
       " 4.85420564995264,\n",
       " 4.852846873867618,\n",
       " 4.85149299201564,\n",
       " 4.850143986767962,\n",
       " 4.8487998405593355,\n",
       " 4.847460535887784,\n",
       " 4.846126055314369,\n",
       " 4.8447963814629675,\n",
       " 4.8434714970200465,\n",
       " 4.842151384734428,\n",
       " 4.840836027417082,\n",
       " 4.839525407940883,\n",
       " 4.838219509240404,\n",
       " 4.836918314311682,\n",
       " 4.835621806212002,\n",
       " 4.834329968059677,\n",
       " 4.833042783033826,\n",
       " 4.831760234374156,\n",
       " 4.830482305380745,\n",
       " 4.829208979413817,\n",
       " 4.8279402398935405,\n",
       " 4.826676070299798,\n",
       " 4.825416454171979,\n",
       " 4.824161375108761,\n",
       " 4.822910816767899,\n",
       " 4.821664762866011,\n",
       " 4.82042319717837,\n",
       " 4.819186103538688,\n",
       " 4.817953465838902,\n",
       " 4.816725268028978,\n",
       " 4.8155014941166865,\n",
       " 4.814282128167402,\n",
       " 4.813067154303901,\n",
       " 4.811856556706141,\n",
       " 4.8106503196110655,\n",
       " 4.809448427312395,\n",
       " 4.808250864160424,\n",
       " 4.807057614561817,\n",
       " 4.805868662979403,\n",
       " 4.804683993931975,\n",
       " 4.80350359199409,\n",
       " 4.802327441795866,\n",
       " 4.801155528022781,\n",
       " 4.799987835415476,\n",
       " 4.798824348769555,\n",
       " 4.7976650529353915,\n",
       " 4.796509932817919,\n",
       " 4.795358973376449,\n",
       " 4.794212159624466,\n",
       " 4.793069476629437,\n",
       " 4.791930909512612,\n",
       " 4.790796443448836,\n",
       " 4.789666063666355,\n",
       " 4.788539755446615,\n",
       " 4.787417504124084,\n",
       " 4.786299295086054,\n",
       " 4.785185113772447,\n",
       " 4.784074945675635,\n",
       " 4.7829687763402395,\n",
       " 4.781866591362954,\n",
       " 4.780768376392351,\n",
       " 4.779674117128695,\n",
       " 4.7785837993237585,\n",
       " 4.777497408780635,\n",
       " 4.7764149313535516,\n",
       " 4.775336352947692,\n",
       " 4.774261659519007,\n",
       " 4.773190837074031,\n",
       " 4.772123871669708,\n",
       " 4.771060749413196,\n",
       " 4.770001456461701,\n",
       " 4.768945979022287,\n",
       " 4.767894303351698,\n",
       " 4.766846415756183,\n",
       " 4.765802302591315,\n",
       " 4.764761950261812,\n",
       " 4.763725345221363,\n",
       " 4.762692473972447,\n",
       " 4.761663323066164,\n",
       " 4.760637879102053,\n",
       " 4.7596161287279255,\n",
       " 4.75859805863968,\n",
       " 4.757583655581141,\n",
       " 4.7565729063438775,\n",
       " 4.755565797767038,\n",
       " 4.7545623167371724,\n",
       " 4.753562450188067,\n",
       " 4.752566185100569,\n",
       " 4.751573508502424,\n",
       " 4.750584407468098,\n",
       " 4.7495988691186195,\n",
       " 4.748616880621399,\n",
       " 4.7476384291900775,\n",
       " 4.7466635020843455,\n",
       " 4.745692086609787,\n",
       " 4.744724170117706,\n",
       " 4.743759740004973,\n",
       " 4.742798783713851,\n",
       " 4.741841288731832,\n",
       " 4.740887242591484,\n",
       " 4.739936632870274,\n",
       " 4.738989447190423,\n",
       " 4.738045673218728,\n",
       " 4.737105298666416,\n",
       " 4.736168311288972,\n",
       " 4.73523469888599,\n",
       " 4.734304449301005,\n",
       " 4.733377550421342,\n",
       " 4.7324539901779525,\n",
       " 4.731533756545261,\n",
       " 4.73061683754101,\n",
       " 4.7297032212260985,\n",
       " 4.7287928957044265,\n",
       " 4.727885849122751,\n",
       " 4.726982069670519,\n",
       " 4.726081545579717,\n",
       " 4.725184265124721,\n",
       " 4.724290216622142,\n",
       " 4.7233993884306775,\n",
       " 4.722511768950947,\n",
       " 4.721627346625359,\n",
       " 4.7207461099379495,\n",
       " 4.7198680474142325,\n",
       " 4.718993147621053,\n",
       " 4.7181213991664395,\n",
       " 4.717252790699452,\n",
       " 4.716387310910036,\n",
       " 4.715524948528875,\n",
       " 4.7146656923272445,\n",
       " 4.713809531116866]"
      ]
     },
     "execution_count": 20,
     "metadata": {},
     "output_type": "execute_result"
    }
   ],
   "source": [
    "cost_data"
   ]
  },
  {
   "cell_type": "markdown",
   "metadata": {},
   "source": [
    "**最终得到的代价**"
   ]
  },
  {
   "cell_type": "code",
   "execution_count": 21,
   "metadata": {},
   "outputs": [
    {
     "data": {
      "text/plain": [
       "4.713809531116866"
      ]
     },
     "execution_count": 21,
     "metadata": {},
     "output_type": "execute_result"
    }
   ],
   "source": [
    "ComputeCost(X, y, final_theta)  # or cost_data[-1]"
   ]
  },
  {
   "cell_type": "markdown",
   "metadata": {},
   "source": [
    "**代价数据可视化**"
   ]
  },
  {
   "cell_type": "code",
   "execution_count": 22,
   "metadata": {},
   "outputs": [
    {
     "data": {
      "image/png": "[encoded data removed]",
      "text/plain": [
       "<matplotlib.figure.Figure at 0x1607bd74048>"
      ]
     },
     "metadata": {},
     "output_type": "display_data"
    }
   ],
   "source": [
    "fig = plt.figure(figsize=(12,8),dpi=80)\n",
    "plt.plot(np.arange(501), cost_data, 'r')\n",
    "plt.xlabel(\"epoch\")\n",
    "plt.ylabel(\"cost\")\n",
    "# plt.xticks(np.arange(501)[0:])\n",
    "plt.title(\"Error vs.Training Epoch\")\n",
    "plt.show()"
   ]
  },
  {
   "cell_type": "markdown",
   "metadata": {
    "collapsed": true
   },
   "source": [
    "**绘制线性拟合数据**"
   ]
  },
  {
   "cell_type": "code",
   "execution_count": 23,
   "metadata": {},
   "outputs": [
    {
     "data": {
      "text/html": [
       "<div>\n",
       "<style>\n",
       "    .dataframe thead tr:only-child th {\n",
       "        text-align: right;\n",
       "    }\n",
       "\n",
       "    .dataframe thead th {\n",
       "        text-align: left;\n",
       "    }\n",
       "\n",
       "    .dataframe tbody tr th {\n",
       "        vertical-align: top;\n",
       "    }\n",
       "</style>\n",
       "<table border=\"1\" class=\"dataframe\">\n",
       "  <thead>\n",
       "    <tr style=\"text-align: right;\">\n",
       "      <th></th>\n",
       "      <th>Ones</th>\n",
       "      <th>Poputation</th>\n",
       "      <th>Profit</th>\n",
       "    </tr>\n",
       "  </thead>\n",
       "  <tbody>\n",
       "    <tr>\n",
       "      <th>0</th>\n",
       "      <td>1</td>\n",
       "      <td>6.1101</td>\n",
       "      <td>17.5920</td>\n",
       "    </tr>\n",
       "    <tr>\n",
       "      <th>1</th>\n",
       "      <td>1</td>\n",
       "      <td>5.5277</td>\n",
       "      <td>9.1302</td>\n",
       "    </tr>\n",
       "    <tr>\n",
       "      <th>2</th>\n",
       "      <td>1</td>\n",
       "      <td>8.5186</td>\n",
       "      <td>13.6620</td>\n",
       "    </tr>\n",
       "    <tr>\n",
       "      <th>3</th>\n",
       "      <td>1</td>\n",
       "      <td>7.0032</td>\n",
       "      <td>11.8540</td>\n",
       "    </tr>\n",
       "    <tr>\n",
       "      <th>4</th>\n",
       "      <td>1</td>\n",
       "      <td>5.8598</td>\n",
       "      <td>6.8233</td>\n",
       "    </tr>\n",
       "  </tbody>\n",
       "</table>\n",
       "</div>"
      ],
      "text/plain": [
       "   Ones  Poputation   Profit\n",
       "0     1      6.1101  17.5920\n",
       "1     1      5.5277   9.1302\n",
       "2     1      8.5186  13.6620\n",
       "3     1      7.0032  11.8540\n",
       "4     1      5.8598   6.8233"
      ]
     },
     "execution_count": 23,
     "metadata": {},
     "output_type": "execute_result"
    }
   ],
   "source": [
    "data.head()"
   ]
  },
  {
   "cell_type": "code",
   "execution_count": 24,
   "metadata": {},
   "outputs": [
    {
     "data": {
      "text/plain": [
       "matrix([[1.03099898]])"
      ]
     },
     "execution_count": 24,
     "metadata": {},
     "output_type": "execute_result"
    }
   ],
   "source": [
    "final_theta[1]"
   ]
  },
  {
   "cell_type": "code",
   "execution_count": 25,
   "metadata": {
    "scrolled": true
   },
   "outputs": [
    {
     "data": {
      "image/png": "[encoded data removed]",
      "text/plain": [
       "<matplotlib.figure.Figure at 0x1607bda0780>"
      ]
     },
     "metadata": {},
     "output_type": "display_data"
    }
   ],
   "source": [
    "b = final_theta[0, 0] # intercept，Y轴上的截距,注意数据的读取方式\n",
    "a = final_theta[1, 0] # slope，斜率\n",
    "\n",
    "fig = plt.figure(figsize=(12,8),dpi=80)\n",
    "plt.scatter(data.Poputation, data.Profit, color='green', label=\"Training data\")\n",
    "plt.plot(data.Poputation, data.Poputation*a + b,color='blue', label=\"Prediction\")\n",
    "plt.legend(loc=2)\n",
    "plt.show()"
   ]
  },
  {
   "cell_type": "markdown",
   "metadata": {},
   "source": [
    "# 2.选修章节"
   ]
  },
  {
   "cell_type": "markdown",
   "metadata": {},
   "source": [
    "## 2.1多变量批量线性回归"
   ]
  },
  {
   "cell_type": "code",
   "execution_count": 26,
   "metadata": {},
   "outputs": [
    {
     "data": {
      "text/html": [
       "<div>\n",
       "<style>\n",
       "    .dataframe thead tr:only-child th {\n",
       "        text-align: right;\n",
       "    }\n",
       "\n",
       "    .dataframe thead th {\n",
       "        text-align: left;\n",
       "    }\n",
       "\n",
       "    .dataframe tbody tr th {\n",
       "        vertical-align: top;\n",
       "    }\n",
       "</style>\n",
       "<table border=\"1\" class=\"dataframe\">\n",
       "  <thead>\n",
       "    <tr style=\"text-align: right;\">\n",
       "      <th></th>\n",
       "      <th>square</th>\n",
       "      <th>bedrooms</th>\n",
       "      <th>price</th>\n",
       "    </tr>\n",
       "  </thead>\n",
       "  <tbody>\n",
       "    <tr>\n",
       "      <th>0</th>\n",
       "      <td>2104</td>\n",
       "      <td>3</td>\n",
       "      <td>399900</td>\n",
       "    </tr>\n",
       "    <tr>\n",
       "      <th>1</th>\n",
       "      <td>1600</td>\n",
       "      <td>3</td>\n",
       "      <td>329900</td>\n",
       "    </tr>\n",
       "    <tr>\n",
       "      <th>2</th>\n",
       "      <td>2400</td>\n",
       "      <td>3</td>\n",
       "      <td>369000</td>\n",
       "    </tr>\n",
       "    <tr>\n",
       "      <th>3</th>\n",
       "      <td>1416</td>\n",
       "      <td>2</td>\n",
       "      <td>232000</td>\n",
       "    </tr>\n",
       "    <tr>\n",
       "      <th>4</th>\n",
       "      <td>3000</td>\n",
       "      <td>4</td>\n",
       "      <td>539900</td>\n",
       "    </tr>\n",
       "  </tbody>\n",
       "</table>\n",
       "</div>"
      ],
      "text/plain": [
       "   square  bedrooms   price\n",
       "0    2104         3  399900\n",
       "1    1600         3  329900\n",
       "2    2400         3  369000\n",
       "3    1416         2  232000\n",
       "4    3000         4  539900"
      ]
     },
     "execution_count": 26,
     "metadata": {},
     "output_type": "execute_result"
    }
   ],
   "source": [
    "data2 = pd.read_csv('ex1data2.txt', names=['square', 'bedrooms','price'])\n",
    "data2.head()"
   ]
  },
  {
   "cell_type": "markdown",
   "metadata": {},
   "source": [
    "### 标准化数据，这个多了一个步骤，特征归一化"
   ]
  },
  {
   "cell_type": "code",
   "execution_count": 27,
   "metadata": {
    "collapsed": true
   },
   "outputs": [],
   "source": [
    "def normalize_feature(df):\n",
    "#     \"\"\"Applies function along input axis(default 0) of DataFrame.\"\"\"\n",
    "    return df.apply(lambda column: (column - column.mean()) / column.std())"
   ]
  },
  {
   "cell_type": "code",
   "execution_count": 28,
   "metadata": {},
   "outputs": [
    {
     "data": {
      "text/html": [
       "<div>\n",
       "<style>\n",
       "    .dataframe thead tr:only-child th {\n",
       "        text-align: right;\n",
       "    }\n",
       "\n",
       "    .dataframe thead th {\n",
       "        text-align: left;\n",
       "    }\n",
       "\n",
       "    .dataframe tbody tr th {\n",
       "        vertical-align: top;\n",
       "    }\n",
       "</style>\n",
       "<table border=\"1\" class=\"dataframe\">\n",
       "  <thead>\n",
       "    <tr style=\"text-align: right;\">\n",
       "      <th></th>\n",
       "      <th>square</th>\n",
       "      <th>bedrooms</th>\n",
       "      <th>price</th>\n",
       "    </tr>\n",
       "  </thead>\n",
       "  <tbody>\n",
       "    <tr>\n",
       "      <th>0</th>\n",
       "      <td>0.130010</td>\n",
       "      <td>-0.223675</td>\n",
       "      <td>0.475747</td>\n",
       "    </tr>\n",
       "    <tr>\n",
       "      <th>1</th>\n",
       "      <td>-0.504190</td>\n",
       "      <td>-0.223675</td>\n",
       "      <td>-0.084074</td>\n",
       "    </tr>\n",
       "    <tr>\n",
       "      <th>2</th>\n",
       "      <td>0.502476</td>\n",
       "      <td>-0.223675</td>\n",
       "      <td>0.228626</td>\n",
       "    </tr>\n",
       "    <tr>\n",
       "      <th>3</th>\n",
       "      <td>-0.735723</td>\n",
       "      <td>-1.537767</td>\n",
       "      <td>-0.867025</td>\n",
       "    </tr>\n",
       "    <tr>\n",
       "      <th>4</th>\n",
       "      <td>1.257476</td>\n",
       "      <td>1.090417</td>\n",
       "      <td>1.595389</td>\n",
       "    </tr>\n",
       "  </tbody>\n",
       "</table>\n",
       "</div>"
      ],
      "text/plain": [
       "     square  bedrooms     price\n",
       "0  0.130010 -0.223675  0.475747\n",
       "1 -0.504190 -0.223675 -0.084074\n",
       "2  0.502476 -0.223675  0.228626\n",
       "3 -0.735723 -1.537767 -0.867025\n",
       "4  1.257476  1.090417  1.595389"
      ]
     },
     "execution_count": 28,
     "metadata": {},
     "output_type": "execute_result"
    }
   ],
   "source": [
    "data2 = normalize_feature(data2)\n",
    "data2.head()"
   ]
  },
  {
   "cell_type": "markdown",
   "metadata": {},
   "source": [
    "** 然后进行多变量多批量梯度下降 **\n"
   ]
  },
  {
   "cell_type": "code",
   "execution_count": 29,
   "metadata": {},
   "outputs": [
    {
     "data": {
      "text/plain": [
       "0.13195133775794732"
      ]
     },
     "execution_count": 29,
     "metadata": {},
     "output_type": "execute_result"
    }
   ],
   "source": [
    "# add ones column\n",
    "data2.insert(0, 'Ones', 1)\n",
    "\n",
    "# set X (training data) and y (target variable)\n",
    "cols = data2.shape[1]\n",
    "X2 = data2.iloc[:,0:cols-1]\n",
    "y2 = data2.iloc[:,cols-1:cols]\n",
    "\n",
    "# convert to matrices and initialize theta\n",
    "X2 = np.matrix(X2.values)\n",
    "y2 = np.matrix(y2.values)\n",
    "theta2 = np.matrix([[0],[0],[0]])\n",
    "\n",
    "# perform linear regression on the data set\n",
    "theta2, cost2 = Batch_gradient_descent(X2, y2, theta2, epoch=500)\n",
    "\n",
    "# get the cost (error) of the model\n",
    "ComputeCost(X2, y2, theta2)"
   ]
  },
  {
   "cell_type": "code",
   "execution_count": 30,
   "metadata": {},
   "outputs": [
    {
     "data": {
      "image/png": "[encoded data removed]",
      "text/plain": [
       "<matplotlib.figure.Figure at 0x1607bd59a58>"
      ]
     },
     "metadata": {},
     "output_type": "display_data"
    }
   ],
   "source": [
    "fig = plt.figure(figsize=(12,8),dpi=80)\n",
    "plt.plot(np.arange(501), cost2, 'r')\n",
    "plt.xlabel(\"epoch\")\n",
    "plt.ylabel(\"cost2\")\n",
    "plt.title(\"Error vs.Training Epoch\")\n",
    "# plt.grid(True)\n",
    "plt.show()"
   ]
  },
  {
   "cell_type": "code",
   "execution_count": 31,
   "metadata": {},
   "outputs": [
    {
     "data": {
      "text/plain": [
       "[0.48936170212765967,\n",
       " 0.4805491041076719,\n",
       " 0.47198587701203876,\n",
       " 0.46366461618706284,\n",
       " 0.4555781400525299,\n",
       " 0.44771948335326117,\n",
       " 0.4400818906150644,\n",
       " 0.43265880979889004,\n",
       " 0.42544388614718714,\n",
       " 0.41843095621663473,\n",
       " 0.4116140420916036,\n",
       " 0.4049873457728717,\n",
       " 0.39854524373628347,\n",
       " 0.3922822816562035,\n",
       " 0.38619316928877434,\n",
       " 0.3802727755101314,\n",
       " 0.3745161235048873,\n",
       " 0.36891838610032585,\n",
       " 0.36347488124189714,\n",
       " 0.3581810676057273,\n",
       " 0.353032540343996,\n",
       " 0.34802502695915444,\n",
       " 0.3431543833030803,\n",
       " 0.33841658969738386,\n",
       " 0.3338077471711977,\n",
       " 0.3293240738128865,\n",
       " 0.32496190123222946,\n",
       " 0.32071767112972566,\n",
       " 0.3165879319697778,\n",
       " 0.3125693357546089,\n",
       " 0.3086586348958572,\n",
       " 0.3048526791808924,\n",
       " 0.301148412830983,\n",
       " 0.29754287164853055,\n",
       " 0.2940331802506765,\n",
       " 0.290616549386659,\n",
       " 0.2872902733363892,\n",
       " 0.28405172738778034,\n",
       " 0.2808983653904495,\n",
       " 0.2778277173834725,\n",
       " 0.2748373872949541,\n",
       " 0.27192505071123485,\n",
       " 0.26908845271362497,\n",
       " 0.26632540578062164,\n",
       " 0.26363378775362334,\n",
       " 0.2610115398642198,\n",
       " 0.2584566648211922,\n",
       " 0.25596722495541263,\n",
       " 0.25354134042089205,\n",
       " 0.2511771874502738,\n",
       " 0.24887299666312285,\n",
       " 0.24662705142541463,\n",
       " 0.24443768625866874,\n",
       " 0.2423032852972262,\n",
       " 0.24022228079221122,\n",
       " 0.23819315166076369,\n",
       " 0.23621442207916982,\n",
       " 0.23428466011856308,\n",
       " 0.23240247642190492,\n",
       " 0.2305665229209955,\n",
       " 0.22877549159230046,\n",
       " 0.22702811325042077,\n",
       " 0.22532315637806244,\n",
       " 0.22365942599140304,\n",
       " 0.22203576253978147,\n",
       " 0.22045104083867165,\n",
       " 0.21890416903493284,\n",
       " 0.2173940876033578,\n",
       " 0.21591976837357188,\n",
       " 0.21448021358636368,\n",
       " 0.21307445497855435,\n",
       " 0.21170155289554485,\n",
       " 0.21036059543069827,\n",
       " 0.20905069759074843,\n",
       " 0.20777100048644415,\n",
       " 0.20652067054766643,\n",
       " 0.20529889876227617,\n",
       " 0.20410489993797504,\n",
       " 0.20293791198648123,\n",
       " 0.20179719522934586,\n",
       " 0.20068203172475316,\n",
       " 0.1995917246146703,\n",
       " 0.19852559749172968,\n",
       " 0.1974829937852473,\n",
       " 0.19646327616579626,\n",
       " 0.19546582596777473,\n",
       " 0.1944900426294234,\n",
       " 0.1935353431497636,\n",
       " 0.19260116156194365,\n",
       " 0.1916869484224977,\n",
       " 0.1907921703160338,\n",
       " 0.189916309374886,\n",
       " 0.18905886281327441,\n",
       " 0.18821934247553765,\n",
       " 0.1873972743980089,\n",
       " 0.18659219838412328,\n",
       " 0.185803667592357,\n",
       " 0.18503124813660804,\n",
       " 0.1842745186986435,\n",
       " 0.18353307015224665,\n",
       " 0.18280650519871142,\n",
       " 0.18209443801333897,\n",
       " 0.18139649390260434,\n",
       " 0.18071230897167057,\n",
       " 0.1800415298019359,\n",
       " 0.17938381313831125,\n",
       " 0.17873882558593354,\n",
       " 0.17810624331602853,\n",
       " 0.17748575178064738,\n",
       " 0.17687704543600677,\n",
       " 0.1762798274741744,\n",
       " 0.17569380956284514,\n",
       " 0.1751187115929645,\n",
       " 0.17455426143396122,\n",
       " 0.17400019469635852,\n",
       " 0.17345625450154262,\n",
       " 0.1729221912584685,\n",
       " 0.1723977624470965,\n",
       " 0.17188273240835447,\n",
       " 0.17137687214042716,\n",
       " 0.17087995910118398,\n",
       " 0.17039177701655678,\n",
       " 0.16991211569468953,\n",
       " 0.1694407708456841,\n",
       " 0.1689775439067737,\n",
       " 0.16852224187275905,\n",
       " 0.16807467713154944,\n",
       " 0.1676346673046519,\n",
       " 0.16720203509246181,\n",
       " 0.16677660812420692,\n",
       " 0.16635821881240653,\n",
       " 0.16594670421170715,\n",
       " 0.165541905881964,\n",
       " 0.16514366975543854,\n",
       " 0.16475184600798923,\n",
       " 0.1643662889341329,\n",
       " 0.1639868568258613,\n",
       " 0.16361341185509826,\n",
       " 0.1632458199596884,\n",
       " 0.16288395073280929,\n",
       " 0.16252767731570497,\n",
       " 0.16217687629363955,\n",
       " 0.1618314275949739,\n",
       " 0.16149121439327116,\n",
       " 0.1611561230123392,\n",
       " 0.16082604283412127,\n",
       " 0.1605008662093497,\n",
       " 0.16018048837087778,\n",
       " 0.15986480734960962,\n",
       " 0.15955372389294994,\n",
       " 0.1592471413856969,\n",
       " 0.15894496577330425,\n",
       " 0.15864710548744218,\n",
       " 0.15835347137378586,\n",
       " 0.1580639766219659,\n",
       " 0.15777853669761477,\n",
       " 0.15749706927644566,\n",
       " 0.157219494180303,\n",
       " 0.1569457333151249,\n",
       " 0.15667571061075894,\n",
       " 0.15640935196257788,\n",
       " 0.15614658517483707,\n",
       " 0.1558873399057249,\n",
       " 0.1556315476140529,\n",
       " 0.1553791415075362,\n",
       " 0.15513005649261752,\n",
       " 0.15488422912578662,\n",
       " 0.15464159756635174,\n",
       " 0.1544021015306174,\n",
       " 0.1541656822474278,\n",
       " 0.15393228241503384,\n",
       " 0.15370184615924345,\n",
       " 0.15347431899281805,\n",
       " 0.1532496477760753,\n",
       " 0.1530277806786644,\n",
       " 0.15280866714247615,\n",
       " 0.15259225784565547,\n",
       " 0.15237850466768188,\n",
       " 0.15216736065548656,\n",
       " 0.15195877999057444,\n",
       " 0.1517527179571211,\n",
       " 0.15154913091101488,\n",
       " 0.15134797624981636,\n",
       " 0.15114921238360698,\n",
       " 0.15095279870670036,\n",
       " 0.15075869557019012,\n",
       " 0.15056686425530955,\n",
       " 0.15037726694757764,\n",
       " 0.15018986671170934,\n",
       " 0.15000462746726562,\n",
       " 0.14982151396502189,\n",
       " 0.1496404917640332,\n",
       " 0.14946152720937445,\n",
       " 0.14928458741053677,\n",
       " 0.14910964022045872,\n",
       " 0.14893665421517455,\n",
       " 0.14876559867406025,\n",
       " 0.14859644356065962,\n",
       " 0.14842915950407326,\n",
       " 0.14826371778089278,\n",
       " 0.14810009029766483,\n",
       " 0.14793824957386828,\n",
       " 0.14777816872538993,\n",
       " 0.14761982144848268,\n",
       " 0.1474631820041929,\n",
       " 0.14730822520324208,\n",
       " 0.14715492639134978,\n",
       " 0.14700326143498363,\n",
       " 0.14685320670752525,\n",
       " 0.1467047390758377,\n",
       " 0.14655783588722407,\n",
       " 0.14641247495676463,\n",
       " 0.14626863455502107,\n",
       " 0.14612629339609778,\n",
       " 0.14598543062604827,\n",
       " 0.14584602581161762,\n",
       " 0.14570805892930994,\n",
       " 0.14557151035477142,\n",
       " 0.14543636085247993,\n",
       " 0.14530259156573178,\n",
       " 0.14517018400691611,\n",
       " 0.1450391200480697,\n",
       " 0.14490938191170247,\n",
       " 0.1447809521618863,\n",
       " 0.14465381369559946,\n",
       " 0.14452794973431846,\n",
       " 0.1444033438158502,\n",
       " 0.14427997978639776,\n",
       " 0.14415784179285188,\n",
       " 0.14403691427530232,\n",
       " 0.14391718195976197,\n",
       " 0.14379862985109793,\n",
       " 0.14368124322616266,\n",
       " 0.1435650076271199,\n",
       " 0.14344990885495965,\n",
       " 0.14333593296319555,\n",
       " 0.14322306625174078,\n",
       " 0.1431112952609561,\n",
       " 0.14300060676586493,\n",
       " 0.14289098777053136,\n",
       " 0.14278242550259543,\n",
       " 0.14267490740796127,\n",
       " 0.14256842114563384,\n",
       " 0.14246295458269945,\n",
       " 0.142358495789446,\n",
       " 0.14225503303461925,\n",
       " 0.14215255478081015,\n",
       " 0.1420510496799703,\n",
       " 0.14195050656905084,\n",
       " 0.14185091446576262,\n",
       " 0.1417522625644519,\n",
       " 0.14165454023209026,\n",
       " 0.14155773700437435,\n",
       " 0.14146184258193198,\n",
       " 0.14136684682663245,\n",
       " 0.14127273975799667,\n",
       " 0.14117951154970584,\n",
       " 0.14108715252620418,\n",
       " 0.14099565315939372,\n",
       " 0.1409050040654189,\n",
       " 0.14081519600153708,\n",
       " 0.14072621986307407,\n",
       " 0.14063806668046036,\n",
       " 0.14055072761634763,\n",
       " 0.1404641939628014,\n",
       " 0.14037845713856922,\n",
       " 0.14029350868642082,\n",
       " 0.14020934027055865,\n",
       " 0.14012594367409767,\n",
       " 0.14004331079661064,\n",
       " 0.13996143365173838,\n",
       " 0.1398803043648625,\n",
       " 0.13979991517083906,\n",
       " 0.13972025841179112,\n",
       " 0.13964132653495887,\n",
       " 0.1395631120906052,\n",
       " 0.13948560772997554,\n",
       " 0.1394088062033102,\n",
       " 0.13933270035790743,\n",
       " 0.13925728313623673,\n",
       " 0.13918254757409942,\n",
       " 0.13910848679883667,\n",
       " 0.13903509402758246,\n",
       " 0.138962362565561,\n",
       " 0.13889028580442658,\n",
       " 0.13881885722064558,\n",
       " 0.1387480703739184,\n",
       " 0.138677918905641,\n",
       " 0.1386083965374045,\n",
       " 0.13853949706953192,\n",
       " 0.1384712143796508,\n",
       " 0.138403542421301,\n",
       " 0.1383364752225765,\n",
       " 0.13827000688480018,\n",
       " 0.13820413158123054,\n",
       " 0.1381388435558005,\n",
       " 0.13807413712188513,\n",
       " 0.13801000666110028,\n",
       " 0.1379464466221289,\n",
       " 0.13788345151957584,\n",
       " 0.13782101593284926,\n",
       " 0.1377591345050687,\n",
       " 0.13769780194199865,\n",
       " 0.13763701301100711,\n",
       " 0.13757676254004805,\n",
       " 0.13751704541666762,\n",
       " 0.13745785658703333,\n",
       " 0.1373991910549853,\n",
       " 0.13734104388110907,\n",
       " 0.1372834101818299,\n",
       " 0.1372262851285268,\n",
       " 0.13716966394666721,\n",
       " 0.13711354191496047,\n",
       " 0.13705791436453063,\n",
       " 0.1370027766781068,\n",
       " 0.1369481242892326,\n",
       " 0.13689395268149127,\n",
       " 0.13684025738774935,\n",
       " 0.1367870339894156,\n",
       " 0.1367342781157162,\n",
       " 0.1366819854429858,\n",
       " 0.13663015169397344,\n",
       " 0.13657877263716303,\n",
       " 0.1365278440861087,\n",
       " 0.1364773618987835,\n",
       " 0.13642732197694216,\n",
       " 0.13637772026549663,\n",
       " 0.13632855275190497,\n",
       " 0.13627981546557258,\n",
       " 0.13623150447726529,\n",
       " 0.13618361589853506,\n",
       " 0.1361361458811566,\n",
       " 0.13608909061657562,\n",
       " 0.13604244633536813,\n",
       " 0.13599620930670994,\n",
       " 0.13595037583785746,\n",
       " 0.13590494227363753,\n",
       " 0.13585990499594844,\n",
       " 0.1358152604232695,\n",
       " 0.1357710050101804,\n",
       " 0.13572713524689023,\n",
       " 0.13568364765877453,\n",
       " 0.13564053880592175,\n",
       " 0.13559780528268783,\n",
       " 0.1355554437172595,\n",
       " 0.13551345077122479,\n",
       " 0.13547182313915251,\n",
       " 0.13543055754817865,\n",
       " 0.1353896507576004,\n",
       " 0.13534909955847768,\n",
       " 0.13530890077324167,\n",
       " 0.13526905125531047,\n",
       " 0.13522954788871083,\n",
       " 0.13519038758770774,\n",
       " 0.1351515672964394,\n",
       " 0.13511308398855895,\n",
       " 0.13507493466688233,\n",
       " 0.13503711636304225,\n",
       " 0.1349996261371476,\n",
       " 0.13496246107744925,\n",
       " 0.1349256183000107,\n",
       " 0.13488909494838502,\n",
       " 0.13485288819329633,\n",
       " 0.1348169952323271,\n",
       " 0.13478141328961019,\n",
       " 0.1347461396155259,\n",
       " 0.1347111714864043,\n",
       " 0.13467650620423158,\n",
       " 0.13464214109636177,\n",
       " 0.13460807351523252,\n",
       " 0.13457430083808555,\n",
       " 0.13454082046669139,\n",
       " 0.13450762982707826,\n",
       " 0.13447472636926536,\n",
       " 0.1344421075670001,\n",
       " 0.1344097709174989,\n",
       " 0.13437771394119274,\n",
       " 0.1343459341814757,\n",
       " 0.13431442920445774,\n",
       " 0.13428319659872076,\n",
       " 0.1342522339750784,\n",
       " 0.1342215389663395,\n",
       " 0.13419110922707472,\n",
       " 0.13416094243338644,\n",
       " 0.13413103628268233,\n",
       " 0.13410138849345166,\n",
       " 0.13407199680504514,\n",
       " 0.13404285897745766,\n",
       " 0.13401397279111393,\n",
       " 0.13398533604665733,\n",
       " 0.13395694656474152,\n",
       " 0.133928802185825,\n",
       " 0.1339009007699681,\n",
       " 0.13387324019663321,\n",
       " 0.1338458183644872,\n",
       " 0.13381863319120707,\n",
       " 0.1337916826132873,\n",
       " 0.1337649645858507,\n",
       " 0.1337384770824609,\n",
       " 0.13371221809493786,\n",
       " 0.13368618563317541,\n",
       " 0.1336603777249612,\n",
       " 0.13363479241579912,\n",
       " 0.1336094277687338,\n",
       " 0.13358428186417728,\n",
       " 0.13355935279973805,\n",
       " 0.13353463869005205,\n",
       " 0.13351013766661574,\n",
       " 0.1334858478776214,\n",
       " 0.1334617674877945,\n",
       " 0.13343789467823247,\n",
       " 0.13341422764624633,\n",
       " 0.1333907646052034,\n",
       " 0.1333675037843725,\n",
       " 0.13334444342877066,\n",
       " 0.13332158179901157,\n",
       " 0.13329891717115624,\n",
       " 0.13327644783656506,\n",
       " 0.13325417210175167,\n",
       " 0.13323208828823854,\n",
       " 0.13321019473241433,\n",
       " 0.13318848978539247,\n",
       " 0.1331669718128722,\n",
       " 0.1331456391950002,\n",
       " 0.1331244903262345,\n",
       " 0.13310352361520966,\n",
       " 0.13308273748460353,\n",
       " 0.13306213037100528,\n",
       " 0.13304170072478536,\n",
       " 0.13302144700996643,\n",
       " 0.13300136770409596,\n",
       " 0.13298146129812036,\n",
       " 0.13296172629625996,\n",
       " 0.13294216121588615,\n",
       " 0.132922764587399,\n",
       " 0.1329035349541069,\n",
       " 0.13288447087210706,\n",
       " 0.13286557091016762,\n",
       " 0.1328468336496107,\n",
       " 0.1328282576841967,\n",
       " 0.13280984162001042,\n",
       " 0.13279158407534733,\n",
       " 0.13277348368060227,\n",
       " 0.13275553907815815,\n",
       " 0.13273774892227672,\n",
       " 0.13272011187898983,\n",
       " 0.13270262662599233,\n",
       " 0.13268529185253564,\n",
       " 0.1326681062593227,\n",
       " 0.13265106855840397,\n",
       " 0.13263417747307443,\n",
       " 0.13261743173777144,\n",
       " 0.13260083009797413,\n",
       " 0.13258437131010334,\n",
       " 0.13256805414142278,\n",
       " 0.1325518773699412,\n",
       " 0.13253583978431552,\n",
       " 0.13251994018375463,\n",
       " 0.1325041773779249,\n",
       " 0.13248855018685587,\n",
       " 0.1324730574408471,\n",
       " 0.13245769798037618,\n",
       " 0.13244247065600748,\n",
       " 0.13242737432830168,\n",
       " 0.13241240786772626,\n",
       " 0.13239757015456716,\n",
       " 0.13238286007884084,\n",
       " 0.13236827654020747,\n",
       " 0.13235381844788482,\n",
       " 0.1323394847205633,\n",
       " 0.13232527428632143,\n",
       " 0.13231118608254225,\n",
       " 0.1322972190558306,\n",
       " 0.13228337216193134,\n",
       " 0.13226964436564798,\n",
       " 0.13225603464076227,\n",
       " 0.13224254196995483,\n",
       " 0.13222916534472598,\n",
       " 0.13221590376531786,\n",
       " 0.13220275624063701,\n",
       " 0.13218972178817762,\n",
       " 0.13217679943394567,\n",
       " 0.13216398821238384,\n",
       " 0.13215128716629693,\n",
       " 0.13213869534677797,\n",
       " 0.13212621181313536,\n",
       " 0.1321138356328202,\n",
       " 0.13210156588135483,\n",
       " 0.13208940164226143,\n",
       " 0.132077342006992,\n",
       " 0.1320653860748583,\n",
       " 0.1320535329529629,\n",
       " 0.1320417817561306,\n",
       " 0.13203013160684074,\n",
       " 0.13201858163516003,\n",
       " 0.1320071309786758,\n",
       " 0.1319957787824301,\n",
       " 0.13198452419885442,\n",
       " 0.1319733663877049,\n",
       " 0.131962304515998,\n",
       " 0.13195133775794732]"
      ]
     },
     "execution_count": 31,
     "metadata": {},
     "output_type": "execute_result"
    }
   ],
   "source": [
    "cost2"
   ]
  },
  {
   "cell_type": "code",
   "execution_count": 32,
   "metadata": {},
   "outputs": [
    {
     "data": {
      "text/plain": [
       "matrix([[-1.17358841e-16],\n",
       "        [ 8.30383883e-01],\n",
       "        [ 8.23982853e-04]])"
      ]
     },
     "execution_count": 32,
     "metadata": {},
     "output_type": "execute_result"
    }
   ],
   "source": [
    "theta2"
   ]
  },
  {
   "cell_type": "markdown",
   "metadata": {},
   "source": [
    "## 2.2 学习率"
   ]
  },
  {
   "cell_type": "code",
   "execution_count": 33,
   "metadata": {},
   "outputs": [
    {
     "name": "stdout",
     "output_type": "stream",
     "text": [
      "[1.e-06 3.e-06 1.e-05 3.e-05 1.e-04 3.e-04 1.e-03 3.e-03]\n"
     ]
    }
   ],
   "source": [
    "base = np.logspace(-3, -6, num=4)\n",
    "candidate = np.sort(np.concatenate((base, base*3)))\n",
    "print(candidate)"
   ]
  },
  {
   "cell_type": "code",
   "execution_count": 34,
   "metadata": {},
   "outputs": [
    {
     "data": {
      "image/png": "[encoded data removed]",
      "text/plain": [
       "<matplotlib.figure.Figure at 0x1607be33630>"
      ]
     },
     "metadata": {},
     "output_type": "display_data"
    }
   ],
   "source": [
    "epoch=50\n",
    "\n",
    "fig, ax = plt.subplots(figsize=(16, 9))\n",
    "\n",
    "for alpha in candidate:\n",
    "    _, cost_data = Batch_gradient_descent(X, y,theta, epoch=50, alpha=alpha)\n",
    "    ax.plot(np.arange(epoch+1), cost_data, label=alpha)\n",
    "\n",
    "ax.set_xlabel('epoch', fontsize=18)\n",
    "ax.set_ylabel('cost', fontsize=18)\n",
    "ax.legend(bbox_to_anchor=(1.05, 1), loc=2, borderaxespad=0.)\n",
    "ax.set_title('learning rate', fontsize=18)\n",
    "plt.show()"
   ]
  },
  {
   "cell_type": "markdown",
   "metadata": {},
   "source": [
    "## 2.3 normal equation（正规方程）\n",
    "正规方程是通过求解下面的方程来找出使得代价函数最小的参数的：$\\frac{\\partial }{\\partial {{\\theta }_{j}}}J\\left( {{\\theta }_{j}} \\right)=0$ 。\n",
    " 假设我们的训练集特征矩阵为 X（包含了${{x}_{0}}=1$）并且我们的训练集结果为向量 y，则利用正规方程解出向量 $\\theta ={{\\left( {{X}^{T}}X \\right)}^{-1}}{{X}^{T}}y$ 。\n",
    "上标T代表矩阵转置，上标-1 代表矩阵的逆。设矩阵$A={{X}^{T}}X$，则：${{\\left( {{X}^{T}}X \\right)}^{-1}}={{A}^{-1}}$\n",
    "\n",
    "梯度下降与正规方程的比较：\n",
    "\n",
    "梯度下降：需要选择学习率α，需要多次迭代，当特征数量n大时也能较好适用，适用于各种类型的模型\t\n",
    "\n",
    "正规方程：不需要选择学习率α，一次计算得出，需要计算${{\\left( {{X}^{T}}X \\right)}^{-1}}$，如果特征数量n较大则运算代价大，因为矩阵逆的计算时间复杂度为O(n3)，通常来说当n小于10000 时还是可以接受的，只适用于线性模型，不适合逻辑回归模型等其他模型"
   ]
  },
  {
   "cell_type": "code",
   "execution_count": 35,
   "metadata": {
    "collapsed": true
   },
   "outputs": [],
   "source": [
    "# 正规方程\n",
    "def normalEqn(X, y):\n",
    "    theta = np.linalg.inv(X.T @ X ) @ X.T@ y # X.T@X等价于X.T.dot(X)\n",
    "    return theta"
   ]
  },
  {
   "cell_type": "code",
   "execution_count": 36,
   "metadata": {},
   "outputs": [
    {
     "data": {
      "text/plain": [
       "matrix([[-3.89578088],\n",
       "        [ 1.19303364]])"
      ]
     },
     "execution_count": 36,
     "metadata": {},
     "output_type": "execute_result"
    }
   ],
   "source": [
    "final_theta2=normalEqn(X, y)#感觉和批量梯度下降的theta的值有点差距(迭代次数不够？还是学习率太大？)\n",
    "final_theta2"
   ]
  }
 ],
 "metadata": {
  "kernelspec": {
   "display_name": "Python 3",
   "language": "python",
   "name": "python3"
  },
  "language_info": {
   "codemirror_mode": {
    "name": "ipython",
    "version": 3
   },
   "file_extension": ".py",
   "mimetype": "text/x-python",
   "name": "python",
   "nbconvert_exporter": "python",
   "pygments_lexer": "ipython3",
   "version": "3.6.3"
  }
 },
 "nbformat": 4,
 "nbformat_minor": 1
}
