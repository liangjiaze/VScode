{
 "metadata": {
  "language_info": {
   "codemirror_mode": {
    "name": "ipython",
    "version": 3
   },
   "file_extension": ".py",
   "mimetype": "text/x-python",
   "name": "python",
   "nbconvert_exporter": "python",
   "pygments_lexer": "ipython3",
   "version": "3.8.5-final"
  },
  "orig_nbformat": 2,
  "kernelspec": {
   "name": "python3",
   "display_name": "Python 3",
   "language": "python"
  }
 },
 "nbformat": 4,
 "nbformat_minor": 2,
 "cells": [
  {
   "source": [
    "import pandas as pd\n",
    "import numpy as np\n",
    "\n",
    "data = pd.read_csv('E://bigdata/data/tg_ppq&upq.csv')\n",
    "data"
   ],
   "cell_type": "code",
   "metadata": {},
   "execution_count": null,
   "outputs": []
  },
  {
   "source": [
    "import seaborn as sns\n",
    "import matplotlib.pyplot as plt\n",
    "\n",
    "fig, axs = plt.subplots(ncols=5, figsize=(30,5))\n",
    "sns.violinplot(x=\"PPQ\", y=\"UPQ\", hue=\"LINELOSS_RATE\", data=data, ax=axs[0])\n",
    "sns.pointplot(x=\"PPQ\", y=\"UPQ\", hue=\"LINELOSS_RATE\", data=data, ax=axs[1])\n",
    "\n",
    "# sns.violinplot(x=\"survived\", y=\"age\", hue=\"sex\", data=data, ax=axs[0])\n",
    "# sns.pointplot(x=\"sibsp\", y=\"survived\", hue=\"sex\", data=data, ax=axs[1])\n",
    "# sns.pointplot(x=\"parch\", y=\"survived\", hue=\"sex\", data=data, ax=axs[2])\n",
    "# sns.pointplot(x=\"pclass\", y=\"survived\", hue=\"sex\", data=data, ax=axs[3])\n",
    "# sns.violinplot(x=\"survived\", y=\"fare\", hue=\"sex\", data=data, ax=axs[4])"
   ],
   "cell_type": "code",
   "metadata": {},
   "execution_count": null,
   "outputs": []
  },
  {
   "source": [
    "# 以下方法命名很不规范，各位不要这样写\n",
    "def paigu():\n",
    "    print('买排骨')\n",
    "\n",
    "\n",
    "def dami():\n",
    "    print('买大米')\n",
    "\n",
    "\n",
    "def dunpaigu():\n",
    "    print('炖排骨')\n",
    "\n",
    "\n",
    "def zhengmifan():\n",
    "    print('蒸米饭')\n",
    "\n",
    "\n",
    "def main():\n",
    "    paigu()\n",
    "    dami()\n",
    "    dunpaigu()\n",
    "    zhengmifan()\n",
    "\n",
    "\n",
    "if __name__ == '__main__':\n",
    "    main()"
   ],
   "cell_type": "code",
   "metadata": {},
   "execution_count": null,
   "outputs": []
  },
  {
   "source": [
    "# 定义类 class关键字 + 大驼峰类名\n",
    "class GirlFriend:\n",
    "    # 类的构造方法，类实例化时被调用\n",
    "    def __init__(self):\n",
    "        pass\n",
    "\n",
    "    def paigu(self):\n",
    "        print('买排骨')\n",
    "\n",
    "    def dami(self):\n",
    "        print('买大米')\n",
    "\n",
    "    def dunpaigu(self):\n",
    "        print('炖排骨')\n",
    "\n",
    "    def zhengmifan(self):\n",
    "        print('蒸米饭')\n",
    "\n",
    "    def zuofan(self):\n",
    "        self.paigu()\n",
    "        self.dami()\n",
    "        self.dunpaigu()\n",
    "        self.zhengmifan()\n",
    "\n",
    "\n",
    "def main():\n",
    "    # 实例化一个女朋友\n",
    "    girl = GirlFriend()\n",
    "    # 让女朋友直接做排骨米饭\n",
    "    girl.zuofan()\n",
    "\n",
    "\n",
    "if __name__ == '__main__':\n",
    "    main()"
   ],
   "cell_type": "code",
   "metadata": {},
   "execution_count": null,
   "outputs": []
  },
  {
   "cell_type": "code",
   "execution_count": 1,
   "metadata": {},
   "outputs": [
    {
     "output_type": "stream",
     "name": "stdout",
     "text": [
      "<__main__.Test object at 0x00000185CF4F6850>\n<class '__main__.Test'>\n"
     ]
    }
   ],
   "source": [
    "class Test:\n",
    "    def ppr(self):\n",
    "        print(self)\n",
    "        print(self.__class__)\n",
    "\n",
    "t = Test()\n",
    "t.ppr()"
   ]
  },
  {
   "cell_type": "code",
   "execution_count": null,
   "metadata": {},
   "outputs": [],
   "source": []
  }
 ]
}