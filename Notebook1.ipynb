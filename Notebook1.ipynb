{
 "metadata": {
  "language_info": {
   "codemirror_mode": {
    "name": "ipython",
    "version": 3
   },
   "file_extension": ".py",
   "mimetype": "text/x-python",
   "name": "python",
   "nbconvert_exporter": "python",
   "pygments_lexer": "ipython3",
   "version": "3.8.5-final"
  },
  "orig_nbformat": 2,
  "kernelspec": {
   "name": "python3",
   "display_name": "Python 3.8.5 64-bit (conda)",
   "metadata": {
    "interpreter": {
     "hash": "56bd40fca788839ffd8b992f1a51835ba54cc718229bda6b2ab82b3c7f52901b"
    }
   }
  }
 },
 "nbformat": 4,
 "nbformat_minor": 2,
 "cells": [
  {
   "cell_type": "code",
   "execution_count": 21,
   "metadata": {},
   "outputs": [
    {
     "output_type": "execute_result",
     "data": {
      "text/plain": [
       "       STAT_DATE    PPQ    UPQ  LINELOSS_RATE\n",
       "0         201901    265    240           9.16\n",
       "1         201901   2710   2607           3.79\n",
       "2         201901    425    390           8.30\n",
       "3         201901   3175   3103           2.28\n",
       "4         201901   4506   5403         -19.92\n",
       "...          ...    ...    ...            ...\n",
       "70676     201901  22796  21728           4.68\n",
       "70677     201901   9764   9232           5.46\n",
       "70678     201901  17586  16914           3.82\n",
       "70679     201901   7777   7555           2.86\n",
       "70680     201901  28807  28388           1.45\n",
       "\n",
       "[70681 rows x 4 columns]"
      ],
      "text/html": "<div>\n<style scoped>\n    .dataframe tbody tr th:only-of-type {\n        vertical-align: middle;\n    }\n\n    .dataframe tbody tr th {\n        vertical-align: top;\n    }\n\n    .dataframe thead th {\n        text-align: right;\n    }\n</style>\n<table border=\"1\" class=\"dataframe\">\n  <thead>\n    <tr style=\"text-align: right;\">\n      <th></th>\n      <th>STAT_DATE</th>\n      <th>PPQ</th>\n      <th>UPQ</th>\n      <th>LINELOSS_RATE</th>\n    </tr>\n  </thead>\n  <tbody>\n    <tr>\n      <th>0</th>\n      <td>201901</td>\n      <td>265</td>\n      <td>240</td>\n      <td>9.16</td>\n    </tr>\n    <tr>\n      <th>1</th>\n      <td>201901</td>\n      <td>2710</td>\n      <td>2607</td>\n      <td>3.79</td>\n    </tr>\n    <tr>\n      <th>2</th>\n      <td>201901</td>\n      <td>425</td>\n      <td>390</td>\n      <td>8.30</td>\n    </tr>\n    <tr>\n      <th>3</th>\n      <td>201901</td>\n      <td>3175</td>\n      <td>3103</td>\n      <td>2.28</td>\n    </tr>\n    <tr>\n      <th>4</th>\n      <td>201901</td>\n      <td>4506</td>\n      <td>5403</td>\n      <td>-19.92</td>\n    </tr>\n    <tr>\n      <th>...</th>\n      <td>...</td>\n      <td>...</td>\n      <td>...</td>\n      <td>...</td>\n    </tr>\n    <tr>\n      <th>70676</th>\n      <td>201901</td>\n      <td>22796</td>\n      <td>21728</td>\n      <td>4.68</td>\n    </tr>\n    <tr>\n      <th>70677</th>\n      <td>201901</td>\n      <td>9764</td>\n      <td>9232</td>\n      <td>5.46</td>\n    </tr>\n    <tr>\n      <th>70678</th>\n      <td>201901</td>\n      <td>17586</td>\n      <td>16914</td>\n      <td>3.82</td>\n    </tr>\n    <tr>\n      <th>70679</th>\n      <td>201901</td>\n      <td>7777</td>\n      <td>7555</td>\n      <td>2.86</td>\n    </tr>\n    <tr>\n      <th>70680</th>\n      <td>201901</td>\n      <td>28807</td>\n      <td>28388</td>\n      <td>1.45</td>\n    </tr>\n  </tbody>\n</table>\n<p>70681 rows × 4 columns</p>\n</div>"
     },
     "metadata": {},
     "execution_count": 21
    }
   ],
   "source": [
    "import pandas as pd\n",
    "import numpy as np\n",
    "\n",
    "data = pd.read_csv('E://bigdata/data/tg_ppq&upq.csv')\n",
    "data"
   ]
  },
  {
   "cell_type": "code",
   "execution_count": null,
   "metadata": {},
   "outputs": [],
   "source": [
    "import seaborn as sns\n",
    "import matplotlib.pyplot as plt\n",
    "\n",
    "fig, axs = plt.subplots(ncols=5, figsize=(30,5))\n",
    "sns.violinplot(x=\"PPQ\", y=\"UPQ\", hue=\"LINELOSS_RATE\", data=data, ax=axs[0])\n",
    "sns.pointplot(x=\"PPQ\", y=\"UPQ\", hue=\"LINELOSS_RATE\", data=data, ax=axs[1])\n",
    "\n",
    "# sns.violinplot(x=\"survived\", y=\"age\", hue=\"sex\", data=data, ax=axs[0])\n",
    "# sns.pointplot(x=\"sibsp\", y=\"survived\", hue=\"sex\", data=data, ax=axs[1])\n",
    "# sns.pointplot(x=\"parch\", y=\"survived\", hue=\"sex\", data=data, ax=axs[2])\n",
    "# sns.pointplot(x=\"pclass\", y=\"survived\", hue=\"sex\", data=data, ax=axs[3])\n",
    "# sns.violinplot(x=\"survived\", y=\"fare\", hue=\"sex\", data=data, ax=axs[4])"
   ]
  },
  {
   "cell_type": "code",
   "execution_count": null,
   "metadata": {},
   "outputs": [],
   "source": []
  }
 ]
}